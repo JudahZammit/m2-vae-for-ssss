{
 "cells": [
  {
   "cell_type": "code",
   "execution_count": 1,
   "metadata": {},
   "outputs": [],
   "source": [
    "import os\n",
    "import random\n",
    "png_list = os.listdir('./VOCdevkit/VOC2012/SegmentationObject/')"
   ]
  },
  {
   "cell_type": "code",
   "execution_count": 2,
   "metadata": {},
   "outputs": [],
   "source": [
    "png_list"
   ]
  },
  {
   "cell_type": "code",
   "execution_count": 3,
   "metadata": {},
   "outputs": [],
   "source": [
    "random.shuffle(png_list)"
   ]
  },
  {
   "cell_type": "code",
   "execution_count": 4,
   "metadata": {},
   "outputs": [],
   "source": [
    "train_png = png_list[:len(png_list)//2]\n",
    "val_png = png_list[len(png_list)//2:]"
   ]
  },
  {
   "cell_type": "code",
   "execution_count": 5,
   "metadata": {},
   "outputs": [],
   "source": [
    "for x in train_png:\n",
    "    os.rename('./VOCdevkit/VOC2012/SegmentationObject/' + x, 'VOCdevkit/VOC2012/train_masks/' + x)\n",
    "    os.rename('./VOCdevkit/VOC2012/JPEGImages/' + x.replace('.png','.jpg'), 'VOCdevkit/VOC2012/train_frames/' + x.replace('.png','.jpg'))"
   ]
  },
  {
   "cell_type": "code",
   "execution_count": 6,
   "metadata": {},
   "outputs": [],
   "source": [
    "for x in val_png:\n",
    "    os.rename('./VOCdevkit/VOC2012/SegmentationObject/' + x, 'VOCdevkit/VOC2012/val_masks/' + x)\n",
    "    os.rename('./VOCdevkit/VOC2012/JPEGImages/' + x.replace('.png','.jpg'), 'VOCdevkit/VOC2012/val_frames/' + x.replace('.png','.jpg'))"
   ]
  }
 ],
 "metadata": {
  "kernelspec": {
   "display_name": "Python 3",
   "language": "python",
   "name": "python3"
  },
  "language_info": {
   "codemirror_mode": {
    "name": "ipython",
    "version": 3
   },
   "file_extension": ".py",
   "mimetype": "text/x-python",
   "name": "python",
   "nbconvert_exporter": "python",
   "pygments_lexer": "ipython3",
   "version": "3.7.5"
  }
 },
 "nbformat": 4,
 "nbformat_minor": 2
}
