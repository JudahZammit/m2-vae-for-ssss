{
 "cells": [
  {
   "cell_type": "code",
   "execution_count": 1,
   "metadata": {},
   "outputs": [
    {
     "name": "stderr",
     "output_type": "stream",
     "text": [
      "Using TensorFlow backend.\n"
     ]
    }
   ],
   "source": [
    "from keras.datasets import mnist\n",
    "import keras\n",
    "import numpy as np\n",
    "import random\n",
    "import os\n",
    "import pandas as pd \n",
    "from pandas import read_csv"
   ]
  },
  {
   "cell_type": "code",
   "execution_count": 2,
   "metadata": {},
   "outputs": [],
   "source": [
    "(train_x,train_y) , (val_x,val_y) = mnist.load_data()\n",
    "new_train_x = np.zeros((60000,28*28))\n",
    "new_val_x = np.zeros((10000,28*28))\n",
    "labeled_train_x = np.zeros((100,28*28))\n",
    "labeled_train_y = np.zeros((100,10))\n",
    "new_val_y = np.zeros((10000,10))\n",
    "new_train_y = np.zeros((60000,10))\n",
    "classes = 10"
   ]
  },
  {
   "cell_type": "code",
   "execution_count": 3,
   "metadata": {},
   "outputs": [],
   "source": [
    "for x in range(len(train_x)):\n",
    "    new_train_x[x] = (train_x[x].flatten() / 255) -.5\n",
    "    new_train_y[x] = keras.utils.to_categorical(train_y[x],num_classes = classes)\n",
    "for x in range(len(val_x)):\n",
    "    new_val_x[x] = (val_x[x].flatten() /255) -.5\n",
    "    new_val_y[x] = keras.utils.to_categorical(val_y[x],num_classes = classes)\n",
    "train_x = new_train_x\n",
    "train_y = new_train_y\n",
    "val_x = new_val_x\n",
    "val_y = new_val_y"
   ]
  },
  {
   "cell_type": "code",
   "execution_count": 4,
   "metadata": {},
   "outputs": [],
   "source": [
    "index = np.arange(0, len(train_x), 1).tolist()\n",
    "random.shuffle(index)"
   ]
  },
  {
   "cell_type": "code",
   "execution_count": 5,
   "metadata": {},
   "outputs": [],
   "source": [
    "zero = 0\n",
    "one = 0\n",
    "two = 0\n",
    "three = 0\n",
    "four = 0\n",
    "five = 0\n",
    "six = 0\n",
    "seven = 0\n",
    "eight = 0\n",
    "nine = 0"
   ]
  },
  {
   "cell_type": "code",
   "execution_count": 6,
   "metadata": {},
   "outputs": [],
   "source": [
    "for x in index:\n",
    "    if(np.array_equal(train_y[x],[1,0,0,0,0,0,0,0,0,0])):\n",
    "        labeled_train_y[zero] = [1,0,0,0,0,0,0,0,0,0]\n",
    "        labeled_train_x[zero] = train_x[x]\n",
    "        train_x = np.delete(train_x,x,0)\n",
    "        train_y = np.delete(train_y,x,0)\n",
    "        zero += 1\n",
    "    if(zero == 10):\n",
    "        break\n",
    "for x in index:\n",
    "    if(np.array_equal(train_y[x],[0,1,0,0,0,0,0,0,0,0])):\n",
    "        labeled_train_y[1*10 + one] = [0,1,0,0,0,0,0,0,0,0]\n",
    "        labeled_train_x[1*10 + one] = train_x[x]\n",
    "        train_x = np.delete(train_x,x,0)\n",
    "        train_y = np.delete(train_y,x,0)\n",
    "        one += 1\n",
    "    if(one == 10):\n",
    "        break\n",
    "for x in index:\n",
    "    if(np.array_equal(train_y[x],[0,0,1,0,0,0,0,0,0,0])):\n",
    "        labeled_train_y[2*10 + two] = [0,0,1,0,0,0,0,0,0,0]\n",
    "        labeled_train_x[2*10 + two] = train_x[x]\n",
    "        train_x = np.delete(train_x,x,0)\n",
    "        train_y = np.delete(train_y,x,0)\n",
    "        two += 1\n",
    "    if(two == 10):\n",
    "        break\n",
    "for x in index:\n",
    "    if(np.array_equal(train_y[x],[0,0,0,1,0,0,0,0,0,0])):\n",
    "        labeled_train_y[3*10 + three] = [0,0,0,1,0,0,0,0,0,0]\n",
    "        labeled_train_x[3*10 + three] = train_x[x]\n",
    "        train_x = np.delete(train_x,x,0)\n",
    "        train_y = np.delete(train_y,x,0)\n",
    "        three += 1\n",
    "    if(three == 10):\n",
    "        break\n",
    "for x in index:\n",
    "    if(np.array_equal(train_y[x],[0,0,0,0,1,0,0,0,0,0])):\n",
    "        labeled_train_y[4*10 + four] = [0,0,0,0,1,0,0,0,0,0]\n",
    "        labeled_train_x[4*10 + four] = train_x[x]\n",
    "        train_x = np.delete(train_x,x,0)\n",
    "        train_y = np.delete(train_y,x,0)\n",
    "        four += 1\n",
    "    if(four == 10):\n",
    "        break\n",
    "for x in index:\n",
    "    if(np.array_equal(train_y[x],[0,0,0,0,0,1,0,0,0,0])):\n",
    "        labeled_train_y[5*10 + five] = [0,0,0,0,0,1,0,0,0,0]\n",
    "        labeled_train_x[5*10 + five] = train_x[x]\n",
    "        train_x = np.delete(train_x,x,0)\n",
    "        train_y = np.delete(train_y,x,0)\n",
    "        five += 1\n",
    "    if(five == 10):\n",
    "        break\n",
    "for x in index:\n",
    "    if(np.array_equal(train_y[x],[0,0,0,0,0,0,1,0,0,0])):\n",
    "        labeled_train_y[6*10 + six] = [0,0,0,0,0,0,1,0,0,0]\n",
    "        labeled_train_x[6*10 + six] = train_x[x]\n",
    "        train_x = np.delete(train_x,x,0)\n",
    "        train_y = np.delete(train_y,x,0)\n",
    "        six += 1\n",
    "    if(six == 10):\n",
    "        break\n",
    "for x in index:\n",
    "    if(np.array_equal(train_y[x],[0,0,0,0,0,0,0,1,0,0])):\n",
    "        labeled_train_y[7*10 + seven] =  [0,0,0,0,0,0,0,1,0,0]\n",
    "        labeled_train_x[7*10 + seven] = train_x[x]\n",
    "        train_x = np.delete(train_x,x,0)\n",
    "        train_y = np.delete(train_y,x,0)\n",
    "        seven += 1\n",
    "    if(seven == 10):\n",
    "        break\n",
    "for x in index:\n",
    "    if(np.array_equal(train_y[x],[0,0,0,0,0,0,0,0,1,0])):\n",
    "        labeled_train_y[8*10 + eight] = [0,0,0,0,0,0,0,0,1,0]\n",
    "        labeled_train_x[8*10 + eight] = train_x[x]\n",
    "        train_x = np.delete(train_x,x,0)\n",
    "        train_y = np.delete(train_y,x,0)\n",
    "        eight += 1\n",
    "    if(eight == 10):\n",
    "        break\n",
    "for x in index:\n",
    "    if(np.array_equal(train_y[x],[0,0,0,0,0,0,0,0,0,1])):\n",
    "        labeled_train_y[9*10 + nine] = [0,0,0,0,0,0,0,0,0,1]\n",
    "        labeled_train_x[9*10 + nine] = train_x[x]\n",
    "        train_x = np.delete(train_x,x,0)\n",
    "        train_y = np.delete(train_y,x,0)\n",
    "        nine += 1\n",
    "    if(nine == 10):\n",
    "        break"
   ]
  },
  {
   "cell_type": "code",
   "execution_count": 7,
   "metadata": {},
   "outputs": [
    {
     "data": {
      "text/plain": [
       "(59900, 784)"
      ]
     },
     "execution_count": 7,
     "metadata": {},
     "output_type": "execute_result"
    }
   ],
   "source": [
    "train_x.shape"
   ]
  },
  {
   "cell_type": "code",
   "execution_count": 8,
   "metadata": {},
   "outputs": [],
   "source": [
    "pd.DataFrame(train_x).to_csv(\"./MNIST/59900_100_balenced/train_x.csv\", index=None)\n",
    "pd.DataFrame(train_y).to_csv(\"./MNIST/59900_100_balenced/train_y.csv\", index=None)\n",
    "pd.DataFrame(val_x).to_csv(\"./MNIST/59900_100_balenced/val_x.csv\", index=None)\n",
    "pd.DataFrame(val_y).to_csv(\"./MNIST/59900_100_balenced/val_y.csv\", index=None)\n",
    "pd.DataFrame(labeled_train_x).to_csv(\"./MNIST/59900_100_balenced/labeled_train_x.csv\", index=None)\n",
    "pd.DataFrame(labeled_train_y).to_csv(\"./MNIST/59900_100_balenced/labeled_train_y.csv\", index=None)"
   ]
  },
  {
   "cell_type": "code",
   "execution_count": 9,
   "metadata": {},
   "outputs": [],
   "source": [
    "df = read_csv(\"./MNIST/59900_100_balenced/val_y.csv\")"
   ]
  },
  {
   "cell_type": "code",
   "execution_count": 10,
   "metadata": {},
   "outputs": [],
   "source": [
    "np_x = df.to_numpy()"
   ]
  },
  {
   "cell_type": "code",
   "execution_count": 11,
   "metadata": {},
   "outputs": [
    {
     "data": {
      "text/plain": [
       "array([0., 0., 0., 0., 0., 0., 0., 1., 0., 0.])"
      ]
     },
     "execution_count": 11,
     "metadata": {},
     "output_type": "execute_result"
    }
   ],
   "source": [
    "np_x[0]"
   ]
  }
 ],
 "metadata": {
  "kernelspec": {
   "display_name": "Python 3",
   "language": "python",
   "name": "python3"
  },
  "language_info": {
   "codemirror_mode": {
    "name": "ipython",
    "version": 3
   },
   "file_extension": ".py",
   "mimetype": "text/x-python",
   "name": "python",
   "nbconvert_exporter": "python",
   "pygments_lexer": "ipython3",
   "version": "3.7.5"
  }
 },
 "nbformat": 4,
 "nbformat_minor": 2
}
